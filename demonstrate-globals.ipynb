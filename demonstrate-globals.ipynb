{
 "cells": [
  {
   "cell_type": "markdown",
   "id": "7f92c669-de51-44b4-a678-883ac639aa12",
   "metadata": {},
   "source": [
    "## Demonstrate Modules\n",
    "Show off how a module global works. Uses the code in [`module.py`](./module.py)"
   ]
  },
  {
   "cell_type": "code",
   "execution_count": 1,
   "id": "86800d41-4433-4d02-bf44-013529d2ae27",
   "metadata": {},
   "outputs": [],
   "source": [
    "import module"
   ]
  },
  {
   "cell_type": "markdown",
   "id": "9eabef45-ca96-466c-a976-dbb077f4b73e",
   "metadata": {},
   "source": [
    "This module contains a global value and a function."
   ]
  },
  {
   "cell_type": "code",
   "execution_count": 2,
   "id": "7efd5171-6258-4a4e-a7d5-a32098694b42",
   "metadata": {},
   "outputs": [
    {
     "data": {
      "text/plain": [
       "0"
      ]
     },
     "execution_count": 2,
     "metadata": {},
     "output_type": "execute_result"
    }
   ],
   "source": [
    "module.count"
   ]
  },
  {
   "cell_type": "markdown",
   "id": "523aad37-8c02-4a40-9fdf-e955d61cbddf",
   "metadata": {},
   "source": [
    "Run the function the first time "
   ]
  },
  {
   "cell_type": "code",
   "execution_count": 3,
   "id": "2ed6ea63-5f1c-4f0c-8c91-81575a65feff",
   "metadata": {},
   "outputs": [
    {
     "data": {
      "text/plain": [
       "1"
      ]
     },
     "execution_count": 3,
     "metadata": {},
     "output_type": "execute_result"
    }
   ],
   "source": [
    "module.increase_count()"
   ]
  },
  {
   "cell_type": "markdown",
   "id": "ea7c8d98-3326-49c0-b92d-d1ad7982553a",
   "metadata": {},
   "source": [
    "Run it again and see that the value increases by 1"
   ]
  },
  {
   "cell_type": "code",
   "execution_count": 4,
   "id": "393bdcc1-ab20-4016-b120-154c57485754",
   "metadata": {},
   "outputs": [
    {
     "data": {
      "text/plain": [
       "2"
      ]
     },
     "execution_count": 4,
     "metadata": {},
     "output_type": "execute_result"
    }
   ],
   "source": [
    "module.increase_count()"
   ]
  },
  {
   "cell_type": "markdown",
   "id": "b0c266cd-269e-431d-b984-8da989c704e1",
   "metadata": {},
   "source": [
    "This is because the `count` module-level global has changed"
   ]
  },
  {
   "cell_type": "code",
   "execution_count": 5,
   "id": "26d8ff7e-30ee-4d92-afbf-ce80b34e4a78",
   "metadata": {},
   "outputs": [
    {
     "data": {
      "text/plain": [
       "2"
      ]
     },
     "execution_count": 5,
     "metadata": {},
     "output_type": "execute_result"
    }
   ],
   "source": [
    "module.count"
   ]
  },
  {
   "cell_type": "markdown",
   "id": "af5891b9-e607-42e2-acb0-feaf0edc23c6",
   "metadata": {},
   "source": [
    "We can change it ourselves"
   ]
  },
  {
   "cell_type": "code",
   "execution_count": 6,
   "id": "5638e517-45b7-4356-b269-6897f0a7887b",
   "metadata": {},
   "outputs": [],
   "source": [
    "module.count = 5"
   ]
  },
  {
   "cell_type": "markdown",
   "id": "66f3781c-93e3-452b-af00-0546653d6fdf",
   "metadata": {},
   "source": [
    "and see that it affects the function because `count` is a global"
   ]
  },
  {
   "cell_type": "code",
   "execution_count": 7,
   "id": "db8ca1d8-2e7f-4863-aaf9-a1bc87aef352",
   "metadata": {},
   "outputs": [
    {
     "data": {
      "text/plain": [
       "6"
      ]
     },
     "execution_count": 7,
     "metadata": {},
     "output_type": "execute_result"
    }
   ],
   "source": [
    "module.increase_count()"
   ]
  },
  {
   "cell_type": "code",
   "execution_count": null,
   "id": "ec184aaf-1013-4096-a3a2-dac5fe234405",
   "metadata": {},
   "outputs": [],
   "source": []
  }
 ],
 "metadata": {
  "kernelspec": {
   "display_name": "Python 3 (ipykernel)",
   "language": "python",
   "name": "python3"
  },
  "language_info": {
   "codemirror_mode": {
    "name": "ipython",
    "version": 3
   },
   "file_extension": ".py",
   "mimetype": "text/x-python",
   "name": "python",
   "nbconvert_exporter": "python",
   "pygments_lexer": "ipython3",
   "version": "3.7.13"
  }
 },
 "nbformat": 4,
 "nbformat_minor": 5
}
