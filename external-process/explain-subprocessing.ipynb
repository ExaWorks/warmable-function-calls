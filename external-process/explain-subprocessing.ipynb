{
 "cells": [
  {
   "cell_type": "markdown",
   "id": "b933d7ea-804f-4ed6-b184-40397f2be12b",
   "metadata": {},
   "source": [
    "# Keeping an Expensive Process in Background\n",
    "Some functions are expensive because they launch an external process that has a long startup cost. \n",
    "If you can modify that external code to run more than one input before exiting (not all can), then you can follow this example to keep it alive between function calls."
   ]
  },
  {
   "cell_type": "code",
   "execution_count": 1,
   "id": "ef9837e0-53db-4d39-a72c-408126fe02ec",
   "metadata": {},
   "outputs": [],
   "source": [
    "from subprocess import Popen, PIPE\n",
    "from time import sleep\n",
    "import socket\n",
    "import json\n",
    "import sys"
   ]
  },
  {
   "cell_type": "markdown",
   "id": "c6dfc387-c597-4535-b520-ed1bb347c2d4",
   "metadata": {},
   "source": [
    "## A Primer: Pipes\n",
    "Processes can talk over \"pipes\" where one writes to an end of the pipe and that a second can read from. \n",
    "Our first task is to show how to create these pipes and send data over them.\n",
    "\n",
    "We are going to emulate them with sockets for example purposes."
   ]
  },
  {
   "cell_type": "markdown",
   "id": "8b717117-f0bc-407b-bfe4-9abed635821e",
   "metadata": {},
   "source": [
    "Make a \"pipe\" that acts like a file object"
   ]
  },
  {
   "cell_type": "code",
   "execution_count": 2,
   "id": "d457b0a4-ed8a-4755-b202-fe73894b38a0",
   "metadata": {},
   "outputs": [],
   "source": [
    "read_socket, write_socket = socket.socketpair()\n",
    "read_pipe = read_socket.makefile()\n",
    "write_pipe = write_socket.makefile(mode='w')"
   ]
  },
  {
   "cell_type": "markdown",
   "id": "b525cdff-111a-461b-b2a6-ad7ff7ffb226",
   "metadata": {},
   "source": [
    "We can write to one end and then read a message from the other"
   ]
  },
  {
   "cell_type": "code",
   "execution_count": 3,
   "id": "d56e0045-69ad-4b94-ac95-2b6f77baace9",
   "metadata": {},
   "outputs": [],
   "source": [
    "print(f'Hello!', file=write_pipe, flush=True)  # Flush ensures the message is sent"
   ]
  },
  {
   "cell_type": "code",
   "execution_count": 4,
   "id": "86baf895-7121-498f-aa52-9376788735a7",
   "metadata": {},
   "outputs": [
    {
     "data": {
      "text/plain": [
       "'Hello!\\n'"
      ]
     },
     "execution_count": 4,
     "metadata": {},
     "output_type": "execute_result"
    }
   ],
   "source": [
    "read_pipe.readline()"
   ]
  },
  {
   "cell_type": "markdown",
   "id": "81bcaf08-5895-4640-ad03-890153b8e242",
   "metadata": {},
   "source": [
    "Now that we have these, let's build the sending function. All it will do is package the data to be sent in a string message (we encode it as JSON as many languages support it)"
   ]
  },
  {
   "cell_type": "code",
   "execution_count": 5,
   "id": "6e1329cd-33f2-4f92-8570-b7fd1a607feb",
   "metadata": {},
   "outputs": [],
   "source": [
    "def send_inputs(pipe, *args, **kwargs): \n",
    "    \"\"\"Send the inputs to the subprocess\n",
    "    \n",
    "    Args:\n",
    "        pipe: Pipe over which to send inputs\n",
    "    \"\"\"\n",
    "        \n",
    "    msg = json.dumps({'args': args, 'kwargs': kwargs})\n",
    "    print(msg, file=pipe, flush=True)"
   ]
  },
  {
   "cell_type": "code",
   "execution_count": 6,
   "id": "c4b7a063-10d0-4d4c-8cd2-f5e74179a897",
   "metadata": {},
   "outputs": [],
   "source": [
    "send_inputs(write_pipe, 1, test='hello!')"
   ]
  },
  {
   "cell_type": "markdown",
   "id": "5c0e7346-aea1-434c-8db5-3853730355ed",
   "metadata": {},
   "source": [
    "We can read it out of the other side of the pipe and decode it using JSON"
   ]
  },
  {
   "cell_type": "code",
   "execution_count": 7,
   "id": "de7893a5-9406-4a21-9b6c-919c16dd2b7a",
   "metadata": {},
   "outputs": [
    {
     "data": {
      "text/plain": [
       "{'args': [1], 'kwargs': {'test': 'hello!'}}"
      ]
     },
     "execution_count": 7,
     "metadata": {},
     "output_type": "execute_result"
    }
   ],
   "source": [
    "msg = read_pipe.readline()\n",
    "json.loads(msg[:-1])"
   ]
  },
  {
   "cell_type": "markdown",
   "id": "941c77c3-cefb-45aa-bd14-742c227f452f",
   "metadata": {},
   "source": [
    "The problem with pipes is that the `readline` call will block indefinitely. \n",
    "That means the external program will never exit if no new inputs are coming.\n",
    "\n",
    "We will accomplish that by having the external code exiting after a timeout expires. The `readline` function does not have a timeout, so we use [\"selectors\"](https://docs.python.org/3/library/selectors.html) to impose a timeout.\n",
    "\n",
    "> The details of this are specific to Python, so you may need to find a different mechanism for your external code's language."
   ]
  },
  {
   "cell_type": "code",
   "execution_count": 8,
   "id": "524efc5a-f2d8-4593-857c-92a5bdf7ca2c",
   "metadata": {},
   "outputs": [],
   "source": [
    "from selectors import DefaultSelector, EVENT_READ"
   ]
  },
  {
   "cell_type": "code",
   "execution_count": 9,
   "id": "f25735b3-1620-45ff-8bea-1449656f8598",
   "metadata": {},
   "outputs": [],
   "source": [
    "def read_inputs(pipe, timeout: float = 15) -> dict:\n",
    "    \"\"\"Read inputs from the pipe\n",
    "\n",
    "    Args:\n",
    "        timeout: Timeout in seconds\n",
    "    Yields:\n",
    "        Input arguments or ``None`` if there are no more inputs\n",
    "    \"\"\"\n",
    "\n",
    "    # We use a Selector to wait for inputs from stdin\n",
    "    #  See: https://docs.python.org/3/library/selectors.html#selectors.DefaultSelector\n",
    "    sel = DefaultSelector()\n",
    "    sel.register(pipe, EVENT_READ)  # Wait to read from stdin\n",
    "\n",
    "    # Blocks until pipe is ready to read or a timeout has passed\n",
    "    events = sel.select(timeout=timeout)\n",
    "\n",
    "    # Break if pipe is not ready, which appears as an empty \"events\"\n",
    "    if len(events) == 0:\n",
    "        return\n",
    "\n",
    "    # If the file is closed, then it will always read a blank message. Exit if this happens\n",
    "    msg = pipe.readline()\n",
    "    if len(msg) == 0:\n",
    "        return\n",
    "\n",
    "    # Yield the path\n",
    "    return json.loads(msg[:-1])  # Last character is a newline"
   ]
  },
  {
   "cell_type": "code",
   "execution_count": 10,
   "id": "0bb154f3-c5ce-42ca-ad77-4d8c2d8e916e",
   "metadata": {},
   "outputs": [
    {
     "name": "stdout",
     "output_type": "stream",
     "text": [
      "CPU times: user 2.99 ms, sys: 684 µs, total: 3.68 ms\n",
      "Wall time: 1 s\n"
     ]
    }
   ],
   "source": [
    "%%time\n",
    "read_inputs(read_pipe, timeout=1)"
   ]
  },
  {
   "cell_type": "markdown",
   "id": "cd4b6e6d-05f9-41a6-b46b-7da32e8d980a",
   "metadata": {},
   "source": [
    "Note how this times out after one second"
   ]
  },
  {
   "cell_type": "code",
   "execution_count": 11,
   "id": "cf6c2bc5-3390-4fdb-a740-4382b1855e26",
   "metadata": {},
   "outputs": [],
   "source": [
    "send_inputs(write_pipe, 1, 2)"
   ]
  },
  {
   "cell_type": "code",
   "execution_count": 12,
   "id": "26c56c97-9710-4426-b4e7-2c3b2cf96ecc",
   "metadata": {},
   "outputs": [
    {
     "data": {
      "text/plain": [
       "{'args': [1, 2], 'kwargs': {}}"
      ]
     },
     "execution_count": 12,
     "metadata": {},
     "output_type": "execute_result"
    }
   ],
   "source": [
    "read_inputs(read_pipe)"
   ]
  },
  {
   "cell_type": "markdown",
   "id": "3eb42ef7-2f51-4edb-804f-6fd3a5033a1f",
   "metadata": {},
   "source": [
    "Great! You now have the ability to send data between a remote process and your Python function over a pipe that can stay persistent over calls."
   ]
  },
  {
   "cell_type": "code",
   "execution_count": 13,
   "id": "9fc991e0-fd5e-43c2-a856-eea2cf50eaef",
   "metadata": {},
   "outputs": [],
   "source": [
    "read_socket.close()\n",
    "write_socket.close()"
   ]
  },
  {
   "cell_type": "markdown",
   "id": "c3c60792-1b8a-4220-acc7-534a0e7161ad",
   "metadata": {},
   "source": [
    "## Keeping Process and Pipes Persistent\n",
    "The next ingredient is to keep these pipes and the process they communicate with alive between calls to a function. \n",
    "We can use the [strategy of keeping them as module-level globals discussed in our other example](../global-state/README.md).\n",
    "\n",
    "Our first step is to create the code for the external process. We write it in Python and use a version of the `read_inputs` above modified to be an infinite iterator of new inputs. See [`executable.py`](./executable.py) for full details.\n",
    "\n",
    "We launch that process using Python's [`subprocess` module] and have a few important options to set, described in the next cell."
   ]
  },
  {
   "cell_type": "code",
   "execution_count": 14,
   "id": "d3123ab3-585f-444f-bee3-f6fb9383dcec",
   "metadata": {},
   "outputs": [],
   "source": [
    "def launch_subprocess(stderr_path: str = 'subprocess.err') -> Popen:\n",
    "    \"\"\"Launch the subprocess\n",
    "    \n",
    "    Args:\n",
    "        stderr_path: Path where we should write the standard error\n",
    "    Returns:\n",
    "        A link to the subprocess\n",
    "    \"\"\"\n",
    "\n",
    "    subprocess_stderr = open(stderr_path, 'w')  # A path for the subprocess to write error messages\n",
    "    subprocess = Popen(\n",
    "        args=[\n",
    "            sys.executable,  # Uses the same Python as this notebook, but could be anything\n",
    "            'executable.py'  # It is better to use absolute paths, but I know the script is in the same directory as this notebook\n",
    "        ],\n",
    "        stdin=PIPE,  # PIPE lets me write to and read from the subprocess\n",
    "        stdout=PIPE,\n",
    "        stderr=subprocess_stderr,\n",
    "        text=True  # Critical because I'm sending paths as strings and not bytes\n",
    "    )\n",
    "    \n",
    "    # Attach the stderr information for safe keeping\n",
    "    subprocess.stderr = subprocess_stderr  \n",
    "    subprocess.stderr_path = stderr_path\n",
    "    return subprocess\n",
    "subprocess = launch_subprocess()"
   ]
  },
  {
   "cell_type": "markdown",
   "id": "3e260682-aa4f-4355-963f-4e2ee44b30ac",
   "metadata": {},
   "source": [
    "We create the \"subprocess\" object a Pipe that we can send inputs to and a second that we can read results from it\n",
    "These pipes are the standard in and output for the process."
   ]
  },
  {
   "cell_type": "code",
   "execution_count": 15,
   "id": "c5388f78-da8a-4f21-aa16-7ab580873a53",
   "metadata": {},
   "outputs": [],
   "source": [
    "send_inputs(subprocess.stdin, 1)\n",
    "assert subprocess.poll() is None, \"Subprocess died\""
   ]
  },
  {
   "cell_type": "code",
   "execution_count": 16,
   "id": "565676e4-c054-42b6-8759-ec5992a25e81",
   "metadata": {},
   "outputs": [
    {
     "data": {
      "text/plain": [
       "'2\\n'"
      ]
     },
     "execution_count": 16,
     "metadata": {},
     "output_type": "execute_result"
    }
   ],
   "source": [
    "subprocess.stdout.readline()"
   ]
  },
  {
   "cell_type": "code",
   "execution_count": 17,
   "id": "0c9a5701-424a-4028-a7ae-dd6ed823db3c",
   "metadata": {},
   "outputs": [],
   "source": [
    "subprocess.stderr.close()"
   ]
  },
  {
   "cell_type": "markdown",
   "id": "b2bf6f1a-1900-4702-ac09-aa1159fde9ea",
   "metadata": {},
   "source": [
    "It should close itself if we wait a few seconds"
   ]
  },
  {
   "cell_type": "code",
   "execution_count": 18,
   "id": "dc8aec72-5081-44a1-87e9-1adb8a0f00c5",
   "metadata": {},
   "outputs": [],
   "source": [
    "sleep(6)  # I know it times out after 5 seconds\n",
    "assert subprocess.poll() == 0, f\"Process did not exit cleanly. Return code={subprocess.poll()}\"\n",
    "subprocess.stderr.close()  # Close the file pointer"
   ]
  },
  {
   "cell_type": "markdown",
   "id": "03b12179-f2f0-4677-b47a-3f08bebbf355",
   "metadata": {},
   "source": [
    "The logic for caching this function is going to be a bit more complicated than our last example. \n",
    "Instead of just seeing if subprocess is launched, we have to see if it is launched _and alive_. "
   ]
  },
  {
   "cell_type": "code",
   "execution_count": 19,
   "id": "c271bcd8-88e1-4808-84c7-c34ddd9fe7db",
   "metadata": {},
   "outputs": [],
   "source": [
    "_subprocess: Popen = None\n",
    "def remote_function(x: float) -> float:\n",
    "    \"\"\"The warmable function that actually runs an external process\n",
    "    \n",
    "    Args:\n",
    "        x: Input value\n",
    "    Returns:\n",
    "        Output value\n",
    "    \"\"\"\n",
    "    global _subprocess\n",
    "    \n",
    "    # If the subprocess doesn't exist yet, make one\n",
    "    if _subprocess is None:\n",
    "        _subprocess = launch_subprocess()\n",
    "    elif _subprocess.poll() is not None:\n",
    "        _subprocess.stderr.close()  # Close the old standard error\n",
    "        _subprocess = launch_subprocess()  # Make a new one\n",
    "    \n",
    "    # Send the inputs to this subprocess\n",
    "    send_inputs(_subprocess.stdin, x)\n",
    "    \n",
    "    # Wait to get the outputs\n",
    "    output = _subprocess.stdout.readline()\n",
    "    \n",
    "    # If the output is blank, the code crashed\n",
    "    if len(output) == 0: \n",
    "        # Close the output, then read the error messages it returned\n",
    "        assert _subprocess.poll() is not None, \"Process is still running, but errored.\"\n",
    "        _subprocess.stderr.close()\n",
    "        with open(_subprocess.stderr_path) as fp:\n",
    "            raise ValueError(f'External Process Failed:\\n\\n{fp.read()}')\n",
    "    else: \n",
    "        return json.loads(output[:-1])  # Last character is a new-line"
   ]
  },
  {
   "cell_type": "markdown",
   "id": "ce445305-c750-4aa4-98bc-0c97cb40277b",
   "metadata": {},
   "source": [
    "The first time we run this function will have a large startup cost."
   ]
  },
  {
   "cell_type": "code",
   "execution_count": 20,
   "id": "420bf290-b47b-4604-8ea8-765ea0174baa",
   "metadata": {},
   "outputs": [
    {
     "name": "stdout",
     "output_type": "stream",
     "text": [
      "CPU times: user 1.49 ms, sys: 448 µs, total: 1.94 ms\n",
      "Wall time: 5.02 s\n"
     ]
    },
    {
     "data": {
      "text/plain": [
       "2.0"
      ]
     },
     "execution_count": 20,
     "metadata": {},
     "output_type": "execute_result"
    }
   ],
   "source": [
    "%%time\n",
    "remote_function(1.)"
   ]
  },
  {
   "cell_type": "markdown",
   "id": "03f7c49b-2201-45a9-a185-b8523854f987",
   "metadata": {},
   "source": [
    "The second time will be fast as the program is ready-to-go"
   ]
  },
  {
   "cell_type": "code",
   "execution_count": 21,
   "id": "48e35f0d-0901-401f-8e6c-58f21b2bb271",
   "metadata": {},
   "outputs": [
    {
     "name": "stdout",
     "output_type": "stream",
     "text": [
      "CPU times: user 0 ns, sys: 713 µs, total: 713 µs\n",
      "Wall time: 545 µs\n"
     ]
    },
    {
     "data": {
      "text/plain": [
       "2.0"
      ]
     },
     "execution_count": 21,
     "metadata": {},
     "output_type": "execute_result"
    }
   ],
   "source": [
    "%%time\n",
    "remote_function(1.)"
   ]
  },
  {
   "cell_type": "markdown",
   "id": "3e6ee17c-b519-47ef-ab8b-9c368b5d42fb",
   "metadata": {},
   "source": [
    "If we wait a few seconds, the external process will timeout and require restarting"
   ]
  },
  {
   "cell_type": "code",
   "execution_count": 22,
   "id": "ae65c0bc-7541-4aa2-a8b5-b36ee910303c",
   "metadata": {},
   "outputs": [],
   "source": [
    "sleep(8)"
   ]
  },
  {
   "cell_type": "code",
   "execution_count": 23,
   "id": "1bc60f5b-0a93-45ee-be8a-c53d06be2d32",
   "metadata": {},
   "outputs": [
    {
     "name": "stdout",
     "output_type": "stream",
     "text": [
      "CPU times: user 1.9 ms, sys: 2.24 ms, total: 4.14 ms\n",
      "Wall time: 5.02 s\n"
     ]
    },
    {
     "data": {
      "text/plain": [
       "2.0"
      ]
     },
     "execution_count": 23,
     "metadata": {},
     "output_type": "execute_result"
    }
   ],
   "source": [
    "%%time\n",
    "remote_function(1.)"
   ]
  },
  {
   "cell_type": "markdown",
   "id": "0e05637f-f4b2-40d8-a7aa-239ae964a282",
   "metadata": {},
   "source": [
    "For completeness, our function includes code to report errors from the external process"
   ]
  },
  {
   "cell_type": "code",
   "execution_count": 24,
   "id": "a8814ba4-eb90-4f2d-b9b4-6a18631c1a38",
   "metadata": {},
   "outputs": [
    {
     "name": "stdout",
     "output_type": "stream",
     "text": [
      "External Process Failed:\n",
      "\n",
      "Traceback (most recent call last):\n",
      "  File \"executable.py\", line 63, in <module>\n",
      "    y = function(*inputs['args'], **inputs['kwargs'])\n",
      "  File \"executable.py\", line 49, in function\n",
      "    return x + 1\n",
      "TypeError: can only concatenate str (not \"int\") to str\n",
      "\n"
     ]
    }
   ],
   "source": [
    "try:\n",
    "    remote_function('bad')\n",
    "except ValueError as exc:\n",
    "    print(exc)"
   ]
  },
  {
   "cell_type": "markdown",
   "id": "7bbba31b-f7fe-4d90-b1bb-3e3d0fd075dc",
   "metadata": {},
   "source": [
    "But, it requires the code to be restarted"
   ]
  },
  {
   "cell_type": "code",
   "execution_count": 25,
   "id": "66f6b0de-08dc-45f8-b02c-aa5b7c6e6229",
   "metadata": {},
   "outputs": [
    {
     "name": "stdout",
     "output_type": "stream",
     "text": [
      "CPU times: user 0 ns, sys: 2.8 ms, total: 2.8 ms\n",
      "Wall time: 5.02 s\n"
     ]
    },
    {
     "data": {
      "text/plain": [
       "2.0"
      ]
     },
     "execution_count": 25,
     "metadata": {},
     "output_type": "execute_result"
    }
   ],
   "source": [
    "%%time\n",
    "remote_function(1.)"
   ]
  },
  {
   "cell_type": "markdown",
   "id": "45249f28-b5e3-4a00-bb4d-358b9a19e281",
   "metadata": {},
   "source": [
    "## Advanced\n",
    "A few things to consider as you learn to use this technique:\n",
    "\n",
    "- *Avoid sending large data over pipes.* Write to the filesystem instead and send the path of where to find inputs to the external process.\n",
    "- *Redirect stdout for noisy executable.* Some programs print helpful messages to stdout, which might be interpreted as the result by our calling function. A few options are to [redirect the stdout](https://docs.python.org/3/library/contextlib.html#contextlib.redirect_stdout) to [devnull](https://linuxhint.com/what_is_dev_null/) or a local file, appending a special flag to the stdout line that contains the answer, or communicating over special-purpose sockets.\n",
    "- *Run each executable in a temporary directory.* Many codes write files to their local directory, use a [temporary directory](https://docs.python.org/3/library/tempfile.html#tempfile.mkdtemp) and the `cwd` option of `Popen` to prevent interference between copies of a function.\n",
    "- *Returning errors via stdout.* Our above example exits when an error is kept, which causes performance issues. Instead of crashing, have your executable return error messages via stdout along with an indicator of whether the output was successful or not.\n",
    "- *Beware stdin/stdout in parallel codes.* Only print an results or read the inputs from a single rank of a parallel program."
   ]
  },
  {
   "cell_type": "code",
   "execution_count": null,
   "id": "a34191c7-509b-4f9f-983b-7a8592db055d",
   "metadata": {},
   "outputs": [],
   "source": []
  }
 ],
 "metadata": {
  "kernelspec": {
   "display_name": "Python 3 (ipykernel)",
   "language": "python",
   "name": "python3"
  },
  "language_info": {
   "codemirror_mode": {
    "name": "ipython",
    "version": 3
   },
   "file_extension": ".py",
   "mimetype": "text/x-python",
   "name": "python",
   "nbconvert_exporter": "python",
   "pygments_lexer": "ipython3",
   "version": "3.7.13"
  }
 },
 "nbformat": 4,
 "nbformat_minor": 5
}
